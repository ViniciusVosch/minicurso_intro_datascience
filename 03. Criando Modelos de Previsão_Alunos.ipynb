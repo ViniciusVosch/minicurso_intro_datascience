{
 "cells": [
  {
   "cell_type": "markdown",
   "metadata": {},
   "source": [
    "<h1 style='color: green; font-size: 36px; font-weight: bold;'> Python e Ciência de Dados </h1>\n",
    "<hr style='border: 2px solid green;'> <br>\n",
    "\n",
    "# <font color=red> **Curso de Python Aplicado para Ciência de Dados** </font>\n",
    "<hr style='border: 2px solid red;'> <br>\n",
    "\n",
    "**Instrutor:** prof. Bruno Fontana da Silva <br>\n",
    "**Edição:** 2020/1"
   ]
  },
  {
   "cell_type": "markdown",
   "metadata": {},
   "source": [
    "# <font color=red> Usando as informações do Dataset para Criar um Modelo de Previsão </font>\n",
    "<hr style='border: 2px solid red;'>"
   ]
  },
  {
   "cell_type": "code",
   "execution_count": null,
   "metadata": {},
   "outputs": [],
   "source": [
    "import pandas as pd\n",
    "import numpy as np\n",
    "\n",
    "%matplotlib inline\n",
    "import matplotlib.pyplot as plt"
   ]
  },
  {
   "cell_type": "code",
   "execution_count": null,
   "metadata": {},
   "outputs": [],
   "source": [
    "from sklearn.model_selection import train_test_split"
   ]
  },
  {
   "cell_type": "code",
   "execution_count": null,
   "metadata": {},
   "outputs": [],
   "source": [
    "np.random.seed(42) # para eliminar o efeito do random state, seria ideal fazer Cross-Validation"
   ]
  },
  {
   "cell_type": "code",
   "execution_count": null,
   "metadata": {},
   "outputs": [],
   "source": [
    "data_folder = 'data/'"
   ]
  },
  {
   "cell_type": "code",
   "execution_count": null,
   "metadata": {},
   "outputs": [],
   "source": [
    "file_nyc = 'AB_NYC_2019.csv'"
   ]
  },
  {
   "cell_type": "markdown",
   "metadata": {},
   "source": [
    "## Pré-processamento Básico"
   ]
  },
  {
   "cell_type": "code",
   "execution_count": null,
   "metadata": {},
   "outputs": [],
   "source": [
    "db_nyc = pd.read_csv(data_folder+'airbnb_nyc/'+file_nyc,\n",
    "                     encoding = \"ISO-8859-1\") # error_bad_lines=False, warn_bad_lines=False\n",
    "\n",
    "db_nyc.rename(columns={'price':'preço', \n",
    "                       'name':'nome', \n",
    "                       'host_name':'anfitrião',\n",
    "                       'neighbourhood_group':'bairro_grupo',\n",
    "                       'neighbourhood':'bairro',\n",
    "                       'room_type':'tipo_de_quarto',\n",
    "                       'minimum_nights':'min_de_noites',\n",
    "                       'number_of_reviews':'num_reviews',\n",
    "                       'last_review':'ultimo_review',\n",
    "                       'reviews_per_month':'reviews_por_mes',\n",
    "                       'calculated_host_listings_count':'num_calculado_listagens_do_host',\n",
    "                       'availability_365':'disponibilidade_365'},\n",
    "              inplace=True)\n",
    "\n",
    "db_nyc.head()"
   ]
  },
  {
   "cell_type": "code",
   "execution_count": null,
   "metadata": {},
   "outputs": [],
   "source": [
    "colunas_quantitativas = ['preço', \n",
    "                         'min_de_noites', \n",
    "                         'num_reviews',\n",
    "                         # 'ultimo_review', \n",
    "                         'reviews_por_mes', \n",
    "                         'num_calculado_listagens_do_host',\n",
    "                         'disponibilidade_365', \n",
    "                         'latitude',\n",
    "                         'longitude']"
   ]
  },
  {
   "cell_type": "code",
   "execution_count": null,
   "metadata": {},
   "outputs": [],
   "source": [
    "colunas_qualitativas = ['bairro_grupo','tipo_de_quarto']"
   ]
  },
  {
   "cell_type": "code",
   "execution_count": null,
   "metadata": {},
   "outputs": [],
   "source": []
  },
  {
   "cell_type": "code",
   "execution_count": null,
   "metadata": {},
   "outputs": [],
   "source": []
  },
  {
   "cell_type": "code",
   "execution_count": null,
   "metadata": {},
   "outputs": [],
   "source": []
  },
  {
   "cell_type": "code",
   "execution_count": null,
   "metadata": {},
   "outputs": [],
   "source": []
  },
  {
   "cell_type": "code",
   "execution_count": null,
   "metadata": {},
   "outputs": [],
   "source": []
  },
  {
   "cell_type": "code",
   "execution_count": null,
   "metadata": {},
   "outputs": [],
   "source": []
  },
  {
   "cell_type": "markdown",
   "metadata": {},
   "source": [
    "## Analisando Correlação Entre as Variáveis"
   ]
  },
  {
   "cell_type": "code",
   "execution_count": null,
   "metadata": {},
   "outputs": [],
   "source": []
  },
  {
   "cell_type": "code",
   "execution_count": null,
   "metadata": {},
   "outputs": [],
   "source": [
    "import seaborn as sns\n",
    "plt.figure(figsize=(30,15))\n",
    "\n",
    "\n",
    "mask = np.zeros_like(db_nyc_filtrado_2.corr())\n",
    "mask[np.triu_indices_from(mask)] = True\n",
    "\n",
    "#------------------------------------ \n",
    "\n",
    "#            Code Here    \n",
    "    \n",
    "#------------------------------------    "
   ]
  },
  {
   "cell_type": "code",
   "execution_count": null,
   "metadata": {},
   "outputs": [],
   "source": [
    "db_nyc_filtrado_2.columns"
   ]
  },
  {
   "cell_type": "code",
   "execution_count": null,
   "metadata": {},
   "outputs": [],
   "source": [
    "nomes_vars_x = ['min_de_noites', 'num_reviews','disponibilidade_365']\n",
    "#plt.figure(figsize=(12,20))\n",
    "\n",
    "#------------------------------------ \n",
    "\n",
    "#            Code Here    \n",
    "    \n",
    "#------------------------------------    \n",
    "\n",
    "#plt.subplots_adjust(hspace=0.4, wspace=0.2)"
   ]
  },
  {
   "cell_type": "code",
   "execution_count": null,
   "metadata": {},
   "outputs": [],
   "source": [
    "nomes_vars_x = ['bairro_grupo_Bronx', 'bairro_grupo_Brooklyn', 'bairro_grupo_Manhattan', 'bairro_grupo_Queens', 'bairro_grupo_Staten Island']\n",
    "#------------------------------------ \n",
    "\n",
    "#            Code Here    \n",
    "    \n",
    "#------------------------------------    "
   ]
  },
  {
   "cell_type": "code",
   "execution_count": null,
   "metadata": {},
   "outputs": [],
   "source": [
    "nomes_vars_x = ['bairro_grupo_Bronx', 'bairro_grupo_Brooklyn', 'bairro_grupo_Manhattan', 'bairro_grupo_Queens', 'bairro_grupo_Staten Island']\n",
    "#------------------------------------ \n",
    "\n",
    "#            Code Here    \n",
    "    \n",
    "#------------------------------------    "
   ]
  },
  {
   "cell_type": "code",
   "execution_count": null,
   "metadata": {},
   "outputs": [],
   "source": [
    "nomes_vars_x = ['tipo_de_quarto_Entire home/apt', 'tipo_de_quarto_Private room', 'tipo_de_quarto_Shared room']\n",
    "#------------------------------------ \n",
    "\n",
    "#            Code Here    \n",
    "    \n",
    "#------------------------------------    "
   ]
  },
  {
   "cell_type": "markdown",
   "metadata": {},
   "source": [
    "## Primeiro Modelo: Regressão Linear"
   ]
  },
  {
   "cell_type": "markdown",
   "metadata": {},
   "source": [
    "<img width='800px' src='./pics/regressao_linear.png'>"
   ]
  },
  {
   "cell_type": "code",
   "execution_count": null,
   "metadata": {},
   "outputs": [],
   "source": [
    "X_train, X_test, Y_train, Y_test = #------------ Code Here ------------#   "
   ]
  },
  {
   "cell_type": "code",
   "execution_count": null,
   "metadata": {},
   "outputs": [],
   "source": [
    "from sklearn.linear_model import LinearRegression"
   ]
  },
  {
   "cell_type": "code",
   "execution_count": null,
   "metadata": {},
   "outputs": [],
   "source": []
  },
  {
   "cell_type": "code",
   "execution_count": null,
   "metadata": {},
   "outputs": [],
   "source": []
  },
  {
   "cell_type": "code",
   "execution_count": null,
   "metadata": {},
   "outputs": [],
   "source": []
  },
  {
   "cell_type": "markdown",
   "metadata": {},
   "source": [
    "## Avaliando o Modelo"
   ]
  },
  {
   "cell_type": "code",
   "execution_count": null,
   "metadata": {},
   "outputs": [],
   "source": []
  },
  {
   "cell_type": "code",
   "execution_count": null,
   "metadata": {},
   "outputs": [],
   "source": []
  },
  {
   "cell_type": "code",
   "execution_count": null,
   "metadata": {},
   "outputs": [],
   "source": []
  },
  {
   "cell_type": "code",
   "execution_count": null,
   "metadata": {},
   "outputs": [],
   "source": [
    "#------------------------------------ \n",
    "\n",
    "#            Code Here    \n",
    "    \n",
    "#------------------------------------    \n",
    "\n",
    "\n",
    "plt.grid()\n",
    "\n",
    "plt.xlabel('Exemplos',fontsize=20)\n",
    "plt.ylabel('Erro',fontsize=20)\n",
    "\n",
    "plt.rc('font', size=20)          # controls default text sizes\n",
    "\n",
    "plt.show() "
   ]
  },
  {
   "cell_type": "code",
   "execution_count": null,
   "metadata": {},
   "outputs": [],
   "source": [
    "#------------------------------------ \n",
    "\n",
    "#            Code Here    \n",
    "    \n",
    "#------------------------------------    \n",
    "\n",
    "plt.grid()\n",
    "\n",
    "plt.xlabel('Preço (Previsão)',fontsize=20)\n",
    "\n",
    "plt.rc('font', size=20)          # controls default text sizes\n",
    "\n",
    "plt.show() "
   ]
  },
  {
   "cell_type": "markdown",
   "metadata": {},
   "source": [
    "<img width='800px' src='./pics/var_u.jpg'>\n",
    "Fonte: Econometria Básica - 5ª edição - Gujarati e Porter"
   ]
  },
  {
   "cell_type": "code",
   "execution_count": null,
   "metadata": {},
   "outputs": [],
   "source": [
    "from sklearn.metrics import mean_squared_error, r2_score"
   ]
  },
  {
   "cell_type": "code",
   "execution_count": null,
   "metadata": {},
   "outputs": [],
   "source": []
  },
  {
   "cell_type": "code",
   "execution_count": null,
   "metadata": {},
   "outputs": [],
   "source": []
  },
  {
   "cell_type": "code",
   "execution_count": null,
   "metadata": {},
   "outputs": [],
   "source": [
    "from sklearn.dummy import DummyRegressor"
   ]
  },
  {
   "cell_type": "code",
   "execution_count": null,
   "metadata": {},
   "outputs": [],
   "source": []
  },
  {
   "cell_type": "code",
   "execution_count": null,
   "metadata": {},
   "outputs": [],
   "source": []
  },
  {
   "cell_type": "code",
   "execution_count": null,
   "metadata": {},
   "outputs": [],
   "source": []
  },
  {
   "cell_type": "code",
   "execution_count": null,
   "metadata": {},
   "outputs": [],
   "source": []
  },
  {
   "cell_type": "code",
   "execution_count": null,
   "metadata": {},
   "outputs": [],
   "source": []
  },
  {
   "cell_type": "markdown",
   "metadata": {},
   "source": [
    "## Outros Modelos e Otimização de Parâmetros"
   ]
  },
  {
   "cell_type": "code",
   "execution_count": null,
   "metadata": {},
   "outputs": [],
   "source": [
    "from sklearn.tree import DecisionTreeRegressor"
   ]
  },
  {
   "cell_type": "code",
   "execution_count": null,
   "metadata": {},
   "outputs": [],
   "source": []
  },
  {
   "cell_type": "code",
   "execution_count": null,
   "metadata": {},
   "outputs": [],
   "source": [
    "def treinar(modelo,X_train,Y_train):\n",
    "    #------------------------------------ \n",
    "\n",
    "    #            Code Here    \n",
    "\n",
    "    #------------------------------------    \n",
    "    return modelo"
   ]
  },
  {
   "cell_type": "code",
   "execution_count": null,
   "metadata": {},
   "outputs": [],
   "source": [
    "def avaliar(modelo,X_test,Y_test):\n",
    "    #------------------------------------ \n",
    "\n",
    "    #            Code Here    \n",
    "\n",
    "    #------------------------------------    \n",
    "    return MSE, r2"
   ]
  },
  {
   "cell_type": "code",
   "execution_count": null,
   "metadata": {},
   "outputs": [],
   "source": [
    "modelo = treinar(modelo,X_train,Y_train)"
   ]
  },
  {
   "cell_type": "code",
   "execution_count": null,
   "metadata": {},
   "outputs": [],
   "source": [
    "avaliar(modelo,X_test,Y_test)"
   ]
  },
  {
   "cell_type": "code",
   "execution_count": null,
   "metadata": {},
   "outputs": [],
   "source": [
    "def Buscar_melhor_parametro(max_depth=2,tupla_dados=None):\n",
    "    #------------------------------------ \n",
    "\n",
    "    #            Code Here    \n",
    "\n",
    "    #------------------------------------    \n",
    "    return (MSE,r2)"
   ]
  },
  {
   "cell_type": "code",
   "execution_count": null,
   "metadata": {},
   "outputs": [],
   "source": []
  },
  {
   "cell_type": "code",
   "execution_count": null,
   "metadata": {},
   "outputs": [],
   "source": []
  },
  {
   "cell_type": "code",
   "execution_count": null,
   "metadata": {},
   "outputs": [],
   "source": [
    "plt.figure(figsize=(12,7))\n",
    "\n",
    "plt.subplot(2,1,1)\n",
    "#------------------------------------ \n",
    "\n",
    "#            Code Here    \n",
    "    \n",
    "#------------------------------------    \n",
    "plt.grid()\n",
    "plt.xlabel('Max Depth',fontsize=20)\n",
    "plt.ylabel('MSE',fontsize=20)\n",
    "plt.rc('font', size=20)          # controls default text sizes\n",
    "\n",
    "\n",
    "plt.subplot(2, 1, 2)\n",
    "#------------------------------------ \n",
    "\n",
    "#            Code Here    \n",
    "    \n",
    "#------------------------------------    plt.grid()\n",
    "plt.xlabel('Max Depth',fontsize=20)\n",
    "plt.ylabel('r2 score',fontsize=20)\n",
    "plt.rc('font', size=20)          # controls default text sizes\n",
    "\n",
    "\n",
    "\n",
    "\n",
    "plt.tight_layout()\n",
    "plt.show()"
   ]
  },
  {
   "cell_type": "code",
   "execution_count": null,
   "metadata": {},
   "outputs": [],
   "source": []
  },
  {
   "cell_type": "code",
   "execution_count": null,
   "metadata": {},
   "outputs": [],
   "source": []
  },
  {
   "cell_type": "code",
   "execution_count": null,
   "metadata": {},
   "outputs": [],
   "source": [
    "#------------------------------------ \n",
    "\n",
    "#            Code Here    \n",
    "    \n",
    "#------------------------------------    \n",
    "\n",
    "plt.grid()\n",
    "\n",
    "plt.xlabel('Erro',fontsize=40)\n",
    "plt.ylabel('Número de casos',fontsize=20)\n",
    "\n",
    "plt.rc('font', size=20)          # controls default text sizes\n",
    "\n",
    "plt.show() "
   ]
  },
  {
   "cell_type": "code",
   "execution_count": null,
   "metadata": {},
   "outputs": [],
   "source": [
    "#------------------------------------ \n",
    "\n",
    "#            Code Here    \n",
    "    \n",
    "#------------------------------------    \n",
    "\n",
    "plt.grid()\n",
    "\n",
    "plt.xlabel('Preço (Previsão)',fontsize=20)\n",
    "\n",
    "plt.rc('font', size=20)          # controls default text sizes\n",
    "\n",
    "plt.show() "
   ]
  },
  {
   "cell_type": "code",
   "execution_count": null,
   "metadata": {},
   "outputs": [],
   "source": []
  }
 ],
 "metadata": {
  "kernelspec": {
   "display_name": "Python 3",
   "language": "python",
   "name": "python3"
  },
  "language_info": {
   "codemirror_mode": {
    "name": "ipython",
    "version": 3
   },
   "file_extension": ".py",
   "mimetype": "text/x-python",
   "name": "python",
   "nbconvert_exporter": "python",
   "pygments_lexer": "ipython3",
   "version": "3.7.3"
  }
 },
 "nbformat": 4,
 "nbformat_minor": 2
}
