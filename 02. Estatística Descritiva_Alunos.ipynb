{
 "cells": [
  {
   "cell_type": "markdown",
   "metadata": {},
   "source": [
    "<h1 style='color: green; font-size: 36px; font-weight: bold;'> Python e Ciência de Dados </h1>\n",
    "<hr style='border: 2px solid green;'> <br>\n",
    "\n",
    "# <font color=red> **Curso de Python Aplicado para Ciência de Dados** </font>\n",
    "<hr style='border: 2px solid red;'> <br>\n",
    "\n",
    "**Instrutor:** prof. Bruno Fontana da Silva <br>\n",
    "**Edição:** 2020/1"
   ]
  },
  {
   "cell_type": "code",
   "execution_count": null,
   "metadata": {},
   "outputs": [],
   "source": [
    "import pandas as pd\n",
    "import numpy as np\n",
    "\n",
    "%matplotlib inline\n",
    "import matplotlib.pyplot as plt"
   ]
  },
  {
   "cell_type": "markdown",
   "metadata": {},
   "source": [
    "# <font color=red> Explorando um _dataset_ e extraindo informações estatísticas </font>\n",
    "<hr style='border: 2px solid red;'>"
   ]
  },
  {
   "cell_type": "markdown",
   "metadata": {},
   "source": [
    "Um trabalho de ciência de dados possui várias etapas, as quais costumam ser divididas da seguinte maneira:\n",
    "<img src=\"pics/ds_flow.png\" alt=\"Drawing\" style=\"width: 600px;\"/>"
   ]
  },
  {
   "cell_type": "markdown",
   "metadata": {},
   "source": [
    "Vamos explorar um _dataset_ do Kaggle com inforamações sobre imóveis do Airbnb localizados na cidade de _New York_. <br>\n",
    "Nesta etapa, nosso foco está na **exploração dos dados**. <br>\n",
    "Queremos entender como o _datset_ está organizado, quais informações ele contém e extrair algumas informações básicas que nos ajudam a **descrever as características** das variáveis presentes no _dataset_."
   ]
  },
  {
   "cell_type": "code",
   "execution_count": null,
   "metadata": {},
   "outputs": [],
   "source": [
    "data_folder = 'data/'"
   ]
  },
  {
   "cell_type": "code",
   "execution_count": null,
   "metadata": {},
   "outputs": [],
   "source": [
    "file_nyc = 'AB_NYC_2019.csv'"
   ]
  },
  {
   "cell_type": "markdown",
   "metadata": {},
   "source": [
    "# Leitura dos dados utilizando a biblioteca Pandas"
   ]
  },
  {
   "cell_type": "markdown",
   "metadata": {},
   "source": [
    "O comando \"**read_csv**\" do pacote pandas permite a leitura de dados armazenados em arquivos do tipo \"*csv*\". <br>\n",
    "O Pandas converte os dados do arquivo em uma estrutura chamada \"__*DataFrame*__\"."
   ]
  },
  {
   "cell_type": "code",
   "execution_count": null,
   "metadata": {},
   "outputs": [],
   "source": []
  },
  {
   "cell_type": "code",
   "execution_count": null,
   "metadata": {},
   "outputs": [],
   "source": []
  },
  {
   "cell_type": "markdown",
   "metadata": {},
   "source": [
    "O método **head()** de uma *DataFrame* permite visualizar as primeiras linhas dos dados armazenados. <br>\n",
    "Faça testes com **head(N)** usando um número inteiro N e com os métodos **tail(N)** e **sample(N)**."
   ]
  },
  {
   "cell_type": "code",
   "execution_count": null,
   "metadata": {},
   "outputs": [],
   "source": []
  },
  {
   "cell_type": "markdown",
   "metadata": {},
   "source": [
    "### Renomeando colunas do dataset"
   ]
  },
  {
   "cell_type": "markdown",
   "metadata": {},
   "source": [
    "Vamos usar o método **rename()** para trocar os nomes das colunas por outros nomes mais \"agradáveis\". <br>\n",
    "Para isso, usaremos um dicionário seguindo a regra: *NOME_ANTIGO:NOME_NOVO*."
   ]
  },
  {
   "cell_type": "code",
   "execution_count": null,
   "metadata": {},
   "outputs": [],
   "source": [
    "db_nyc.rename(columns={'price':'preço', \n",
    "                       'name':'nome', \n",
    "                       'host_name':'anfitrião',\n",
    "                       'neighbourhood_group':'bairro_grupo',\n",
    "                       'neighbourhood':'bairro',\n",
    "                       'room_type':'tipo_de_quarto',\n",
    "                       'minimum_nights':'min_de_noites',\n",
    "                       'number_of_reviews':'num_reviews',\n",
    "                       'last_review':'ultimo_review',\n",
    "                       'reviews_per_month':'reviews_por_mes',\n",
    "                       'calculated_host_listings_count':'num_calculado_listagens_do_host',\n",
    "                       'availability_365':'disponibilidade_365'},\n",
    "              inplace=True)"
   ]
  },
  {
   "cell_type": "code",
   "execution_count": null,
   "metadata": {},
   "outputs": [],
   "source": []
  },
  {
   "cell_type": "markdown",
   "metadata": {},
   "source": [
    "O **rename** pode não ser muito prático em algumas situações. <br>\n",
    "Outra forma de renomear é simplesmente usar a sintaxe:  **df.columns = LISTA_DE_NOMES**"
   ]
  },
  {
   "cell_type": "markdown",
   "metadata": {},
   "source": [
    "### Selecionando uma série de dados do dataset"
   ]
  },
  {
   "cell_type": "markdown",
   "metadata": {},
   "source": [
    "Uma forma muito simples de ler uma coluna de um _DataFrame_ do Pandas é acessá-la pelo nome da coluna. "
   ]
  },
  {
   "cell_type": "code",
   "execution_count": null,
   "metadata": {},
   "outputs": [],
   "source": []
  },
  {
   "cell_type": "markdown",
   "metadata": {},
   "source": [
    "Observe que uma única coluna de dados é uma estrutura do Pandas denominada \"*Series*\"."
   ]
  },
  {
   "cell_type": "code",
   "execution_count": null,
   "metadata": {},
   "outputs": [],
   "source": []
  },
  {
   "cell_type": "markdown",
   "metadata": {},
   "source": [
    "### O Método \"_describe()_\" do Pandas"
   ]
  },
  {
   "cell_type": "markdown",
   "metadata": {},
   "source": [
    "Existem diversos métodos implementados no Pandas para facilitar a exploração e análise de *DataFrames*. <br>\n",
    "Um deles é o método \"**describe()**\", o qual extrai as estatísticas descritivas mais básicas de um conjunto de dados."
   ]
  },
  {
   "cell_type": "markdown",
   "metadata": {},
   "source": [
    "Quando aplicado em uma única série, extrai estatística dessa coluna particular. <br>\n",
    "As estatísticas são contagem (número de amostras), média, desvio padrão, valores mínimos e máximos e quartis."
   ]
  },
  {
   "cell_type": "code",
   "execution_count": null,
   "metadata": {},
   "outputs": [],
   "source": []
  },
  {
   "cell_type": "markdown",
   "metadata": {},
   "source": [
    "Se aplicado em um *DataFrame*, as mesmas estatísticas são retornadas para cada coluna.<br>\n",
    "A saída do método também é um *DataFrame* nesse caso."
   ]
  },
  {
   "cell_type": "code",
   "execution_count": null,
   "metadata": {},
   "outputs": [],
   "source": []
  },
  {
   "cell_type": "markdown",
   "metadata": {},
   "source": [
    "### Visualizando uma série de dados: [histograma](https://matplotlib.org/3.1.1/api/_as_gen/matplotlib.pyplot.hist.html) e [boxplot](https://matplotlib.org/3.1.1/api/_as_gen/matplotlib.pyplot.boxplot.html)"
   ]
  },
  {
   "cell_type": "markdown",
   "metadata": {},
   "source": [
    "Um **histograma** é uma forma de visualização de dados que busca entender **como se distribuem os valores** de uma determinada medida. <br>\n",
    "As barras de um histograma representam a quantidade de medidas dentro de um intervalo de valores. <br>\n",
    "Os intervalos de cada barra de um histograma são chamados de \"bins\". <br>\n",
    "Um dos parâmetros a serem definidos na visualização é o **número de bins** do histograma. "
   ]
  },
  {
   "cell_type": "code",
   "execution_count": null,
   "metadata": {},
   "outputs": [],
   "source": [
    "#------------------------------------ \n",
    "\n",
    "#            Code Here    \n",
    "    \n",
    "#------------------------------------    \n",
    "    \n",
    "# plt.xlim([0,500])\n",
    "plt.xlabel('Preços',fontsize=20)\n",
    "plt.ylabel('Numero de acomodações',fontsize=20)\n",
    "plt.grid(True)\n",
    "plt.show() \n",
    "\n",
    "plt.rc('font', size=20)          # controls default text sizes"
   ]
  },
  {
   "cell_type": "markdown",
   "metadata": {},
   "source": [
    "### Filtrando valores da série"
   ]
  },
  {
   "cell_type": "markdown",
   "metadata": {},
   "source": [
    "No histograma acima é possível visualizar que existem preços muito mais altos que a média geral. <br>\n",
    "Embora isso seja uma característica comum para preços de imóveis, __em alguns casos__ essas medidas podem ser consideradas como **\"exceções\"** que não interessam ao modelo. <br>\n",
    "Em Estatística, essas exceções são denominadas **outliers** (medidas não usuais, pouco prováveis). "
   ]
  },
  {
   "cell_type": "markdown",
   "metadata": {},
   "source": [
    "Podemos **selecionar** (_filtrar_) imóveis cujos preços estejam somente dentro de uma faixa desejada. <br>\n",
    "Por exemplo, podemos filtrar os imóveis com preço de aluguel menor que USD 500."
   ]
  },
  {
   "cell_type": "code",
   "execution_count": null,
   "metadata": {},
   "outputs": [],
   "source": []
  },
  {
   "cell_type": "markdown",
   "metadata": {},
   "source": [
    "Observe que uma comparação lógica de uma Série de dados com um escalar (um número, uma constante) retorna um vetor de valores lógicos (Verdadeiro ou Falso). <br> \n",
    "A operação é realizada elemento a elemento da série com o escalar. <br> \n",
    "Esse tipo de operação se chama \"broadcast\", pois internamente o Pandas entende que o valor 500 deve ser comparado com cada medida da Série."
   ]
  },
  {
   "cell_type": "code",
   "execution_count": null,
   "metadata": {},
   "outputs": [],
   "source": []
  },
  {
   "cell_type": "markdown",
   "metadata": {},
   "source": [
    "Podemos criar uma nova Série de dados de preços a partir do filtro. <br>\n",
    "Essa série possui um número menor de dados (apenas os que satisfazem o filtro) e possui suas próprias estatísticas."
   ]
  },
  {
   "cell_type": "code",
   "execution_count": null,
   "metadata": {},
   "outputs": [],
   "source": []
  },
  {
   "cell_type": "markdown",
   "metadata": {},
   "source": [
    "Uma outra forma de visualização de dados é o **Box Plot**. <br>\n",
    "Embora ele mostre informações semelhantes às do histograma, o Box Plot enfatiza algumas estatísticas. <br>\n",
    "Tipicalmente, o Box Plot mostra a Mediana (valor central que separa $50\\%$ das medidas) e os quartis. <br>\n",
    "Também é possível visualizar os outliers (números que ficam muito afastados dos quartis Q1 e Q3).<br>\n",
    "<br><br> **Obs**:<br>\n",
    "Q1: valor até onde se encontram $25\\%$ das medidas. <br>\n",
    "Q3: valor até onde se encontra $75\\%$ das medidas. <br>\n",
    "IIQ: intervalo interquartil, faixa que contém $50\\%$ de todos os valores medidos."
   ]
  },
  {
   "cell_type": "markdown",
   "metadata": {},
   "source": [
    "<img width='700px' src='./pics/Box-Plot.png'>"
   ]
  },
  {
   "cell_type": "code",
   "execution_count": null,
   "metadata": {},
   "outputs": [],
   "source": [
    "#------------------------------------ \n",
    "\n",
    "#            Code Here    \n",
    "    \n",
    "#------------------------------------ \n",
    "\n",
    "\n",
    "plt.xlabel('# da Série',fontsize=20)\n",
    "plt.ylabel('Preços',fontsize=20)\n",
    "plt.show() \n",
    "\n",
    "plt.rc('font', size=20)          # controls default text sizes"
   ]
  },
  {
   "cell_type": "markdown",
   "metadata": {},
   "source": [
    "Poemos fazer seleções mais restritas para buscar imóveis com valores dentro de uma faixa mais genérica. <br>\n",
    "Abaixo, buscamos os imóveis que possuem preços de diária entre USD 40 e USD 90."
   ]
  },
  {
   "cell_type": "code",
   "execution_count": null,
   "metadata": {},
   "outputs": [],
   "source": []
  },
  {
   "cell_type": "markdown",
   "metadata": {},
   "source": [
    "### Ordenando Séries Numéricas"
   ]
  },
  {
   "cell_type": "markdown",
   "metadata": {},
   "source": [
    "Ordenar Séries de dados é um problema clássico em Ciência da Computação. <br>\n",
    "As funções do tipo **sort** já fazem parte das bibliotecas básicas das linguagens mais populares. <br>\n",
    "O método \"**sort_values**\" está implementado no Pandas para DataFrames e Séries de dados."
   ]
  },
  {
   "cell_type": "markdown",
   "metadata": {},
   "source": [
    "Para DataFrames, é preciso especificar qual coluna deve ser ordenada.<br>\n",
    "O método padrão é em ordem \"crescente\"."
   ]
  },
  {
   "cell_type": "code",
   "execution_count": null,
   "metadata": {},
   "outputs": [],
   "source": []
  },
  {
   "cell_type": "markdown",
   "metadata": {},
   "source": [
    "No caso de uma Série de dados, não é necessário especificar o parâmetro \"*by*\"."
   ]
  },
  {
   "cell_type": "code",
   "execution_count": null,
   "metadata": {},
   "outputs": [],
   "source": []
  },
  {
   "cell_type": "markdown",
   "metadata": {},
   "source": [
    "Para organizar em ordem decrescente, muda-se o parâmetro \"ascending\" para Falso."
   ]
  },
  {
   "cell_type": "code",
   "execution_count": null,
   "metadata": {},
   "outputs": [],
   "source": []
  },
  {
   "cell_type": "markdown",
   "metadata": {},
   "source": [
    "### Localizando as _Features_ de Algumas Observações"
   ]
  },
  {
   "cell_type": "markdown",
   "metadata": {},
   "source": [
    "Se observarmos o DataFrame carregado, a primeira coluna não tem nome, e segue uma sequência numérica. <br>\n",
    "Na verdade, ela corresponde aos índices de cada linha de dados."
   ]
  },
  {
   "cell_type": "code",
   "execution_count": null,
   "metadata": {},
   "outputs": [],
   "source": []
  },
  {
   "cell_type": "markdown",
   "metadata": {},
   "source": [
    "Podemos extrair os índices de uma Série que foi filtrada do DataFrame pela variável **index**. <br>\n",
    "Se não houver sido alterada, a Série manterá os índices das linhas correspondentes do DataFrame."
   ]
  },
  {
   "cell_type": "code",
   "execution_count": null,
   "metadata": {},
   "outputs": [],
   "source": []
  },
  {
   "cell_type": "markdown",
   "metadata": {},
   "source": [
    "#### O método \"iloc\""
   ]
  },
  {
   "cell_type": "markdown",
   "metadata": {},
   "source": [
    "Conhecendo os índices das entradas desejadas, podemos recuperar as linhas do DataFrame e visualizar as demais features. <br>\n",
    "Para isso, usamos o método **iloc** que seleciona as linhas do DataFrame pelas posições (índices numéricos) dos dados."
   ]
  },
  {
   "cell_type": "code",
   "execution_count": null,
   "metadata": {},
   "outputs": [],
   "source": []
  },
  {
   "cell_type": "markdown",
   "metadata": {},
   "source": [
    "#### O método loc"
   ]
  },
  {
   "cell_type": "markdown",
   "metadata": {},
   "source": [
    "Nem sempre os índices de um DataFrame são numéricos. <br>\n",
    "Em alguns casos, **o índice pode ser um \"rótulo\"**. <br>\n",
    "Ainda assim, podemos filtrar linhas que possuem os mesmos rótulos. <br>\n",
    "Para isso, usa-se o método **loc[rotulo]**"
   ]
  },
  {
   "cell_type": "markdown",
   "metadata": {},
   "source": [
    "Primeiramente, vamos forçar que o índice do DataFrame seja exatamente a coluna \"bairro_grupo\"."
   ]
  },
  {
   "cell_type": "code",
   "execution_count": null,
   "metadata": {},
   "outputs": [],
   "source": []
  },
  {
   "cell_type": "markdown",
   "metadata": {},
   "source": [
    "Agora podemos filtrar as linhas pelo rótulo comum usando o método \"**loc**\"."
   ]
  },
  {
   "cell_type": "code",
   "execution_count": null,
   "metadata": {},
   "outputs": [],
   "source": []
  },
  {
   "cell_type": "markdown",
   "metadata": {},
   "source": [
    "Veja que o método **iloc** continua funcionando pela posição das linhas."
   ]
  },
  {
   "cell_type": "code",
   "execution_count": null,
   "metadata": {},
   "outputs": [],
   "source": []
  },
  {
   "cell_type": "markdown",
   "metadata": {},
   "source": [
    "#### O método \"isin\""
   ]
  },
  {
   "cell_type": "markdown",
   "metadata": {},
   "source": [
    "Um método bastante versátil dos DataFrames do Pandas é o **isin()**. <br>\n",
    "Trata-se de um filtro lógico que verifica se os valores de uma série de dados fazem parte de um conjunto <br>\n",
    "**isin** faz a pergunta \"*está dentro*?\""
   ]
  },
  {
   "cell_type": "code",
   "execution_count": null,
   "metadata": {},
   "outputs": [],
   "source": []
  },
  {
   "cell_type": "code",
   "execution_count": null,
   "metadata": {},
   "outputs": [],
   "source": []
  },
  {
   "cell_type": "markdown",
   "metadata": {},
   "source": [
    "### O método query()"
   ]
  },
  {
   "cell_type": "markdown",
   "metadata": {},
   "source": [
    "O Pandas também possui buscas com o método \"**query()**\", semelhante às aplicações de bancos de dados. <br>\n",
    "Abaixo vamos filtrar os imóveis de Manhattan com preços abaixo de USD 100. <br>\n",
    "A busca retorna $6036$ resultados (a base tem $48895$ imóveis). "
   ]
  },
  {
   "cell_type": "code",
   "execution_count": null,
   "metadata": {},
   "outputs": [],
   "source": []
  },
  {
   "cell_type": "markdown",
   "metadata": {},
   "source": [
    "### O método Groupby"
   ]
  },
  {
   "cell_type": "markdown",
   "metadata": {},
   "source": [
    "Outro método muito útil do Pandas é facilitar a criação de agrupamentos (clusters) dos dados de um DataFrame. <br>\n",
    "O método \"**groupby**\" permite que os dados sejam analisados em grupos de acordo com categorias desejadas. <br>\n",
    "Esse método é muito útil quando uma das _features_ (colunas) é uma **variável categórica**."
   ]
  },
  {
   "cell_type": "markdown",
   "metadata": {},
   "source": [
    "Uma **variável categórica** é um tipo de medida que não possui ordenamento entre seus valores possíveis. <br>\n",
    "Normalmente pode assumir um número finito de valores (categorias), embora isso não seja necessário. <br>\n",
    "Por exemplo, \"Tipos de Imóveis\" pode ser uma variável categórica, com possíveis valores {\"Casa\", \"Apto\", \"Loja\", \"Kitnet\", \"Cobertura\", ...}. <br>\n",
    "Não existe uma relação natural de ordenamento entre essas categorias, no sentido \"Casa\" > \"Apto\"."
   ]
  },
  {
   "cell_type": "markdown",
   "metadata": {},
   "source": [
    "No exemplo abaixo, vamos agrupar o dataset por \"Bairros\" de NYC. <br>(*na verdade são macro-regiões administrativas denominadas \"boroughs\", no nosso DataFrame foram nomeadas como \"bairro_grupo\"*) <br>"
   ]
  },
  {
   "cell_type": "code",
   "execution_count": null,
   "metadata": {},
   "outputs": [],
   "source": []
  },
  {
   "cell_type": "code",
   "execution_count": null,
   "metadata": {},
   "outputs": [],
   "source": []
  },
  {
   "cell_type": "markdown",
   "metadata": {},
   "source": [
    "<img src=\"pics/NYC_Boroughs_Wikipedia.png\" alt=\"Boroughs of New York City (Wikipedia)\" style=\"height: 400px;\"/>  "
   ]
  },
  {
   "cell_type": "code",
   "execution_count": null,
   "metadata": {},
   "outputs": [],
   "source": []
  },
  {
   "cell_type": "markdown",
   "metadata": {},
   "source": [
    "Outro tipo importante de variável são as **quantitativas**. <br>\n",
    "Nesse caso são valores numéricos que possuem um ordenamento natural entre si. <br>\n",
    "No nosso dataset, algumas _features_ são claramente quantitativas."
   ]
  },
  {
   "cell_type": "code",
   "execution_count": null,
   "metadata": {},
   "outputs": [],
   "source": [
    "colunas_quantitativas = ['preço', 'min_de_noites', 'num_reviews',\n",
    "                         'ultimo_review', 'reviews_por_mes', \n",
    "                         'num_calculado_listagens_do_host',\n",
    "                         'disponibilidade_365']"
   ]
  },
  {
   "cell_type": "markdown",
   "metadata": {},
   "source": [
    "Para as variáveis quantitativa, é razoável nos interessarmos pelas estatísticas descritivas. <br>\n",
    "Por exemplo, a estatística de \"média\", obtida pelo método \"**mean()**\", pode ser obtida para cada grupo de bairros. "
   ]
  },
  {
   "cell_type": "code",
   "execution_count": null,
   "metadata": {},
   "outputs": [],
   "source": []
  },
  {
   "cell_type": "markdown",
   "metadata": {},
   "source": [
    "### Outras formas de visualização das estatísticas de agrupamentos"
   ]
  },
  {
   "cell_type": "code",
   "execution_count": null,
   "metadata": {},
   "outputs": [],
   "source": []
  },
  {
   "cell_type": "code",
   "execution_count": null,
   "metadata": {},
   "outputs": [],
   "source": [
    "#------------------------------------ \n",
    "\n",
    "#            Code Here    \n",
    "    \n",
    "#------------------------------------ \n",
    "\n",
    "\n",
    "plt.rc('font', size=20)          # controls default text sizes\n",
    "plt.grid()\n",
    "\n",
    "plt.xlabel('Bairro',fontsize=20)\n",
    "plt.ylabel('Preço Médio dos Aluguéis',fontsize=20)\n",
    "plt.show() "
   ]
  },
  {
   "cell_type": "code",
   "execution_count": null,
   "metadata": {},
   "outputs": [],
   "source": [
    "import seaborn as sns"
   ]
  },
  {
   "cell_type": "code",
   "execution_count": null,
   "metadata": {},
   "outputs": [],
   "source": []
  },
  {
   "cell_type": "code",
   "execution_count": null,
   "metadata": {},
   "outputs": [],
   "source": []
  },
  {
   "cell_type": "code",
   "execution_count": null,
   "metadata": {},
   "outputs": [],
   "source": []
  },
  {
   "cell_type": "markdown",
   "metadata": {},
   "source": [
    "Abaixo você encontra outras referências sobre filtros em DataFrames do Pandas."
   ]
  },
  {
   "cell_type": "markdown",
   "metadata": {},
   "source": [
    "*Using iloc, loc, & ix to select rows and columns in Pandas DataFrames* <br>\n",
    "https://www.shanelynn.ie/select-pandas-dataframe-rows-and-columns-using-iloc-loc-and-ix/"
   ]
  },
  {
   "cell_type": "markdown",
   "metadata": {},
   "source": [
    "*Selecting Subsets of Data in Pandas: Part 1* <br>\n",
    "https://medium.com/dunder-data/selecting-subsets-of-data-in-pandas-6fcd0170be9c"
   ]
  },
  {
   "cell_type": "code",
   "execution_count": null,
   "metadata": {},
   "outputs": [],
   "source": []
  }
 ],
 "metadata": {
  "kernelspec": {
   "display_name": "Python 3",
   "language": "python",
   "name": "python3"
  },
  "language_info": {
   "codemirror_mode": {
    "name": "ipython",
    "version": 3
   },
   "file_extension": ".py",
   "mimetype": "text/x-python",
   "name": "python",
   "nbconvert_exporter": "python",
   "pygments_lexer": "ipython3",
   "version": "3.7.3"
  }
 },
 "nbformat": 4,
 "nbformat_minor": 2
}
