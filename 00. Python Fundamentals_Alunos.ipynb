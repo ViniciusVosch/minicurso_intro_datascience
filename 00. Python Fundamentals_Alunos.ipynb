{
 "cells": [
  {
   "cell_type": "markdown",
   "metadata": {},
   "source": [
    "<h1 style='color: green; font-size: 36px; font-weight: bold;'> Python e Ciência de Dados </h1>\n",
    "<hr style='border: 2px solid green;'> <br>\n",
    "\n",
    "# <font color=red> **Curso de Python Aplicado para Ciência de Dados** </font>\n",
    "<hr style='border: 2px solid red;'> <br>\n",
    "\n",
    "**Instrutor:** prof. Bruno Fontana da Silva <br>\n",
    "**Edição:** 2020/1"
   ]
  },
  {
   "cell_type": "markdown",
   "metadata": {},
   "source": [
    "# <font color=red> **Prólogo**: Fundamentos da Linguagem</font>\n",
    "<hr style='border: 2px solid red;'>"
   ]
  },
  {
   "cell_type": "markdown",
   "metadata": {},
   "source": [
    "Python é uma linguagem de programação bastante dinâmica e muito poderosa. <br>\n",
    "Ela possui algumas estruturas de dados _built-in_ de alto nível com diversos métodos práticos para o desenvolvimento no dia-a-dia. <br>\n",
    "Algumas características da linguagem:\n",
    "- software de uso gratuito\n",
    "- tipagem dinâmica\n",
    "- sintaxe elegante, fácil de ler o código\n",
    "- códigos podem ser agrupados em pacotes ou módulos\n",
    "- abordagem simples e prática para o paradigma de orientação a objetos\n",
    "- recursos avançados (geradores, compreensão de listas)\n",
    "\n",
    "Consulte sempre a [documentação oficial](www.docs.python.org/3/) para aprender mais sobre as ferramentas presentes na linguagem."
   ]
  },
  {
   "cell_type": "markdown",
   "metadata": {},
   "source": [
    "## **Olá, mundo**"
   ]
  },
  {
   "cell_type": "markdown",
   "metadata": {},
   "source": [
    "Para imprimir uma mensagem no terminal (saída padrão), use a função \n",
    "<font color=blue>print(*)</font> "
   ]
  },
  {
   "cell_type": "code",
   "execution_count": null,
   "metadata": {},
   "outputs": [],
   "source": []
  },
  {
   "cell_type": "markdown",
   "metadata": {},
   "source": [
    "Outra forma de imprimir é usando as chamadas [_f-strings_](https://realpython.com/python-f-strings/#f-strings-a-new-and-improved-way-to-format-strings-in-python):"
   ]
  },
  {
   "cell_type": "code",
   "execution_count": null,
   "metadata": {},
   "outputs": [],
   "source": []
  },
  {
   "cell_type": "markdown",
   "metadata": {},
   "source": [
    "As _f-strings_ facilitam a apresentação de valores salvos em variáveis. <br>\n",
    "Para atribuição de valores para variáveis, utilize o símbolo de igualdade <font color=blue>=</font>."
   ]
  },
  {
   "cell_type": "code",
   "execution_count": null,
   "metadata": {},
   "outputs": [],
   "source": []
  },
  {
   "cell_type": "markdown",
   "metadata": {},
   "source": [
    "**Tarefa**: Leia mais sobre [outras aplicações](https://realpython.com/python-f-strings/#f-strings-a-new-and-improved-way-to-format-strings-in-python) das _f-strings_ e aprenda a formatar melhor as suas saídas de texto!"
   ]
  },
  {
   "cell_type": "markdown",
   "metadata": {},
   "source": [
    "## **O Python como uma Calculadora**"
   ]
  },
  {
   "cell_type": "markdown",
   "metadata": {},
   "source": [
    "Podemos utilizar a linguagem para efetuar operações e resolver expressões matemáticas."
   ]
  },
  {
   "cell_type": "code",
   "execution_count": null,
   "metadata": {},
   "outputs": [],
   "source": []
  },
  {
   "cell_type": "markdown",
   "metadata": {},
   "source": [
    "Podemos armazenar valores em variáveis e utilizá-las em fórmulas ou funções."
   ]
  },
  {
   "cell_type": "code",
   "execution_count": null,
   "metadata": {},
   "outputs": [],
   "source": []
  },
  {
   "cell_type": "code",
   "execution_count": null,
   "metadata": {},
   "outputs": [],
   "source": []
  },
  {
   "cell_type": "markdown",
   "metadata": {},
   "source": [
    "Veja a seguir a tabela com alguns dos principais operadores matemáticos:"
   ]
  },
  {
   "cell_type": "markdown",
   "metadata": {},
   "source": [
    "| Operação | Operador | \n",
    "|------|------|\n",
    "| soma | + |\n",
    "| subtração | - |\n",
    "| multiplicação | * |\n",
    "| divisão | / |\n",
    "| divisão e _floor_ | // |\n",
    "| exponenciação | ** |\n",
    "| módulo (resto) | % |"
   ]
  },
  {
   "cell_type": "markdown",
   "metadata": {},
   "source": [
    "### Exemplos de operações matemáticas"
   ]
  },
  {
   "cell_type": "markdown",
   "metadata": {},
   "source": [
    "Função do segundo grau:"
   ]
  },
  {
   "cell_type": "code",
   "execution_count": null,
   "metadata": {},
   "outputs": [],
   "source": []
  },
  {
   "cell_type": "markdown",
   "metadata": {},
   "source": [
    "Divisão de ponto flutante (usada com números reais):"
   ]
  },
  {
   "cell_type": "code",
   "execution_count": null,
   "metadata": {},
   "outputs": [],
   "source": []
  },
  {
   "cell_type": "markdown",
   "metadata": {},
   "source": [
    "Divisão com arredondamento (do resultado) para baixo:"
   ]
  },
  {
   "cell_type": "code",
   "execution_count": null,
   "metadata": {},
   "outputs": [],
   "source": []
  },
  {
   "cell_type": "code",
   "execution_count": null,
   "metadata": {},
   "outputs": [],
   "source": []
  },
  {
   "cell_type": "code",
   "execution_count": null,
   "metadata": {},
   "outputs": [],
   "source": []
  },
  {
   "cell_type": "code",
   "execution_count": null,
   "metadata": {},
   "outputs": [],
   "source": []
  },
  {
   "cell_type": "code",
   "execution_count": null,
   "metadata": {},
   "outputs": [],
   "source": []
  },
  {
   "cell_type": "markdown",
   "metadata": {},
   "source": [
    "### **Operações com atribuição**"
   ]
  },
  {
   "cell_type": "markdown",
   "metadata": {},
   "source": [
    "Quando escrevemos códigos, é comum que seja necessário sobreescrever o valor de uma variável. <br>\n",
    "Muitas vezes o novo valor é dependente do valor atual, e não é necessário manter um histórico da sequência. <br>\n",
    "Um exemplo simples é quando incrementamos o valor de um contadores."
   ]
  },
  {
   "cell_type": "code",
   "execution_count": null,
   "metadata": {},
   "outputs": [],
   "source": []
  },
  {
   "cell_type": "code",
   "execution_count": null,
   "metadata": {},
   "outputs": [],
   "source": []
  },
  {
   "cell_type": "markdown",
   "metadata": {},
   "source": [
    "É possível simplificar a expressão de incremento com atribuição usando o operador <font color=blue>**+=**</font>"
   ]
  },
  {
   "cell_type": "code",
   "execution_count": null,
   "metadata": {},
   "outputs": [],
   "source": []
  },
  {
   "cell_type": "code",
   "execution_count": null,
   "metadata": {},
   "outputs": [],
   "source": []
  },
  {
   "cell_type": "markdown",
   "metadata": {},
   "source": [
    "Existem outros operadores de atribuição, dentre eles alguns recorrentes são:"
   ]
  },
  {
   "cell_type": "markdown",
   "metadata": {},
   "source": [
    "| Operação (sintaxe) | Equivalência |  \n",
    "|------|------|\n",
    "| x += c | x=x+c |\n",
    "| x -= c | x=x-c |\n",
    "| x *= c | x=x*c |\n",
    "| x /= c | x=x/c |\n",
    "| x \\**= c | x=x\\**c |\n"
   ]
  },
  {
   "cell_type": "markdown",
   "metadata": {},
   "source": [
    "## Os tipos das variáveis"
   ]
  },
  {
   "cell_type": "markdown",
   "metadata": {},
   "source": [
    "Na memória do computador, a **informação é armazenada na forma de energia** (tensão). <br>\n",
    "Fisicamente, são **transistores** que operam como chaves (abertas ou fechadas) e condicionam o estado da memóra em cada posição como **ligada** (com tensão) ou **desligada** (tensão nula). <br><br>\n",
    "\n",
    "Esses estados são chamados de **bits**, representados numericamente por um valor binário:\n",
    "- um bit igual a $0$: para um estado desligado\n",
    "- um bit igual a $1$: para um estado ligado.\n",
    "\n",
    "\n",
    "A memória do computador é composta por milhões de bits. <br>\n",
    "Quando pedimos que um computador guarde uma informação em uma variável, o que ele faz é traduzir essa informação em uma sequência de bits que a representa fisicamente."
   ]
  },
  {
   "cell_type": "code",
   "execution_count": null,
   "metadata": {},
   "outputs": [],
   "source": [
    "# FIGURA ILUSTRATIVA"
   ]
  },
  {
   "cell_type": "markdown",
   "metadata": {},
   "source": [
    "Porém, para utilizar melhor a memória, a representação da informação varia dependendo do tipo de variável.\n",
    "\n",
    "Por exemplo, variáveis que podem ser representadas apenas com um único bit são chamadas de tipo **_boolean_**. Em Python, essa variávels podem receber o valor _True_ ($1$) ou _False_ ($0$)."
   ]
  },
  {
   "cell_type": "code",
   "execution_count": null,
   "metadata": {},
   "outputs": [],
   "source": []
  },
  {
   "cell_type": "markdown",
   "metadata": {},
   "source": [
    "Agora suponha que temos um espaço de $8$ bits de memória. <br> \n",
    "Com uma sequência deste tamanho, podemos representar $2^8$ ($256$) valores diferentes.\n",
    "\n",
    "Para um número inteiro, $8$ bits pode representar <br>\n",
    "uma faixa entre $0$ e $255$ (sem sinal, _unsigned_) <br>\n",
    "ou entre $-127$ e $128$ (com sinal, _signed_)."
   ]
  },
  {
   "cell_type": "code",
   "execution_count": null,
   "metadata": {},
   "outputs": [],
   "source": [
    "# FIGURA ILUSTRATIVA"
   ]
  },
  {
   "cell_type": "code",
   "execution_count": null,
   "metadata": {},
   "outputs": [],
   "source": []
  },
  {
   "cell_type": "markdown",
   "metadata": {},
   "source": [
    "Porém, para representar um número real, é necessário usar os bits de uma forma diferente, <br>\n",
    "pois existem infinitos valores de números inteiros. <br>\n",
    "\n",
    "Essa forma é chamada de representação em **ponto flutuante** (_float_). <br>\n",
    "Qualquer número é representado como $a \\times 10^b$, onde <br>\n",
    "alguns bits forma uma sequência para representar $a$ <br>\n",
    "enquanto outra sequência de bits representa o expoente $b$."
   ]
  },
  {
   "cell_type": "code",
   "execution_count": null,
   "metadata": {},
   "outputs": [],
   "source": []
  },
  {
   "cell_type": "code",
   "execution_count": null,
   "metadata": {},
   "outputs": [],
   "source": []
  },
  {
   "cell_type": "markdown",
   "metadata": {},
   "source": [
    "**Obs.**: _na verdade, a representação em ponto flutuante é um pouco mais detalhada do que essa descrição, leia mais sobre a norma [IEEE 754: Padrão da Aritmética de Ponto Flutuante](https://en.wikipedia.org/wiki/IEEE_754)_."
   ]
  },
  {
   "cell_type": "markdown",
   "metadata": {},
   "source": [
    "Como o Python tem tipagem dinâmica, podem acontecer mudanças de tipo em algumas situações: "
   ]
  },
  {
   "cell_type": "code",
   "execution_count": null,
   "metadata": {},
   "outputs": [],
   "source": []
  },
  {
   "cell_type": "markdown",
   "metadata": {},
   "source": [
    "E os textos? <br>\n",
    "Palavras, textos e caracteres em geral também possuem um tipo. <br>\n",
    "Os caracteres da codificação ASCII usam $8$ bits para "
   ]
  },
  {
   "cell_type": "code",
   "execution_count": null,
   "metadata": {},
   "outputs": [],
   "source": []
  },
  {
   "cell_type": "markdown",
   "metadata": {},
   "source": [
    "Quando escrevemos um texto, na verdade estamos criando uma sequência de caracteres. <br>\n",
    "Essas sequências são denominadas \"_strings_\"."
   ]
  },
  {
   "cell_type": "code",
   "execution_count": null,
   "metadata": {},
   "outputs": [],
   "source": []
  },
  {
   "cell_type": "markdown",
   "metadata": {},
   "source": [
    "Consulte mais informações sobre outros operadores existentes:\n",
    "[Basic Operators](https://www.geeksforgeeks.org/basic-operators-python/)"
   ]
  },
  {
   "cell_type": "markdown",
   "metadata": {},
   "source": [
    "## Usando bibliotecas prontas"
   ]
  },
  {
   "cell_type": "markdown",
   "metadata": {},
   "source": [
    "Além de toda biblioteca integrada (_built-in_) do Python 3, <br>\n",
    "podemos utilizar pacotes e módulos externos desenvolvidos para diversas aplicações. <br> <br>\n",
    "\n",
    "Um pacote essencial para o cientista de dados é o [NumPy](https://numpy.org/). <br>\n",
    "Trata-se de uma ferramenta capaz de realizar operações com dados de grandes dimensões (vetores, matrizes e além...) com uma velocidade muito maior do que os métodos básicos da linguagem. <br><br>\n",
    "\n",
    "Além disso, o NumPy conta com uma variedade de métodos próprios relacionados à Álgebra, Cálculo, Estatística, etc."
   ]
  },
  {
   "cell_type": "markdown",
   "metadata": {},
   "source": [
    "Para instalar no Jupyter, você pode usar o comando <br>\n",
    "<font color=green>_!pip install numpy==VERSAO_ </font> <br> <br>\n",
    "\n",
    "Porém, no ambiente do Anaconda, podemos instalar os pacotes usando a interface gráfica. <br>\n",
    "Uma vez instalado, podemos **carregar o pacote** para uso da seguinte maneira:"
   ]
  },
  {
   "cell_type": "code",
   "execution_count": null,
   "metadata": {},
   "outputs": [],
   "source": [
    "import numpy"
   ]
  },
  {
   "cell_type": "markdown",
   "metadata": {},
   "source": [
    "Para chamar um método do numpy, basta usar um \".\" após o nome do pacote <br> e digitar o método com as entradas necessárias. <br> <br>\n",
    "\n",
    "Por exemplo, para a calcular a raiz quadrada de um número, usamos o método \"_sqrt_\" (_square root_):"
   ]
  },
  {
   "cell_type": "code",
   "execution_count": null,
   "metadata": {},
   "outputs": [],
   "source": []
  },
  {
   "cell_type": "code",
   "execution_count": null,
   "metadata": {},
   "outputs": [],
   "source": [
    "import numpy as np"
   ]
  },
  {
   "cell_type": "code",
   "execution_count": null,
   "metadata": {},
   "outputs": [],
   "source": []
  },
  {
   "cell_type": "code",
   "execution_count": null,
   "metadata": {},
   "outputs": [],
   "source": [
    "from numpy import sqrt"
   ]
  },
  {
   "cell_type": "code",
   "execution_count": null,
   "metadata": {},
   "outputs": [],
   "source": []
  }
 ],
 "metadata": {
  "kernelspec": {
   "display_name": "Python 3",
   "language": "python",
   "name": "python3"
  },
  "language_info": {
   "codemirror_mode": {
    "name": "ipython",
    "version": 3
   },
   "file_extension": ".py",
   "mimetype": "text/x-python",
   "name": "python",
   "nbconvert_exporter": "python",
   "pygments_lexer": "ipython3",
   "version": "3.7.3"
  }
 },
 "nbformat": 4,
 "nbformat_minor": 4
}
