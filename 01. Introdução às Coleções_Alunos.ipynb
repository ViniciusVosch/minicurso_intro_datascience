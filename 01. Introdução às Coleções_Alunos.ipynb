{
 "cells": [
  {
   "cell_type": "markdown",
   "metadata": {},
   "source": [
    "<h1 style='color: green; font-size: 36px; font-weight: bold;'> Python e Ciência de Dados </h1>\n",
    "<hr style='border: 2px solid green;'> <br>\n",
    "\n",
    "# <font color=red> **Curso de Python Aplicado para Ciência de Dados** </font>\n",
    "<hr style='border: 2px solid red;'> <br>\n",
    "\n",
    "**Instrutor:** prof. Bruno Fontana da Silva <br>\n",
    "**Edição:** 2020/1"
   ]
  },
  {
   "cell_type": "markdown",
   "metadata": {},
   "source": [
    "# <font color=red> Introdução às Coleções </font>\n",
    "<hr style='border: 2px solid red;'>"
   ]
  },
  {
   "cell_type": "code",
   "execution_count": null,
   "metadata": {},
   "outputs": [],
   "source": [
    "from ipywidgets import interact\n",
    "import ipywidgets as widgets"
   ]
  },
  {
   "cell_type": "markdown",
   "metadata": {},
   "source": [
    "Agora conheceremos alguns tipos de dados que possuem uma estrutura mais complexa. <br>\n",
    "Tratam-se dos [tipos \"**sequência**\"](https://docs.python.org/3/library/stdtypes.html#sequence-types-list-tuple-range), sendo eles **lista**, **tupla** e **dicionário**. <br>\n",
    "Como se tratam de agrupamentos de elementos (objetos), também é comum se referir aos mesmos como coleções."
   ]
  },
  {
   "cell_type": "markdown",
   "metadata": {},
   "source": [
    "# Mas antes..."
   ]
  },
  {
   "cell_type": "markdown",
   "metadata": {},
   "source": [
    "Para que possamos explorar melhor o uso das coleções, <br> é importante sabermos como utilizar blocos condicionais e laços no Python."
   ]
  },
  {
   "cell_type": "markdown",
   "metadata": {},
   "source": [
    "## Blocos condicionais if, elif"
   ]
  },
  {
   "cell_type": "markdown",
   "metadata": {},
   "source": [
    "Para testar uma condição lógica (verdadeiro ou falso), utilizamos a função \"if\" (se). <br>\n",
    "Quando a condição for verdadeira, o bloco de código indentado \"dentro do if\" será executado."
   ]
  },
  {
   "cell_type": "code",
   "execution_count": null,
   "metadata": {},
   "outputs": [],
   "source": []
  },
  {
   "cell_type": "markdown",
   "metadata": {},
   "source": [
    "Pode-se criar uma alternativa de código para o caso da condição ser falsa (não ser verdadeira):"
   ]
  },
  {
   "cell_type": "code",
   "execution_count": null,
   "metadata": {},
   "outputs": [],
   "source": []
  },
  {
   "cell_type": "code",
   "execution_count": null,
   "metadata": {},
   "outputs": [],
   "source": []
  },
  {
   "cell_type": "code",
   "execution_count": null,
   "metadata": {
    "scrolled": true
   },
   "outputs": [],
   "source": []
  },
  {
   "cell_type": "markdown",
   "metadata": {},
   "source": [
    "## Laços: for, while"
   ]
  },
  {
   "cell_type": "markdown",
   "metadata": {},
   "source": [
    "Quando precisamos programar **tarefas repetitivas**, como por exemplo <br> \n",
    "testar o sinal de uma lista de valores ou <br> \n",
    "fazer uma atualização no cadastro de uma lista de clientes <br>\n",
    "podemos fazer uso dos laços de programação."
   ]
  },
  {
   "cell_type": "markdown",
   "metadata": {},
   "source": [
    "A função \"**range()**\" pode ser útil quando queremos fazer um laço sobre uma sequência de valores numéricos. <br> \n",
    "Ela cria um gerador de números inteiros que serão percorridos por um contador."
   ]
  },
  {
   "cell_type": "code",
   "execution_count": null,
   "metadata": {},
   "outputs": [],
   "source": []
  },
  {
   "cell_type": "code",
   "execution_count": null,
   "metadata": {},
   "outputs": [],
   "source": []
  },
  {
   "cell_type": "markdown",
   "metadata": {},
   "source": [
    "Existem [diversas formas de fazer um laço em Python](https://docs.python.org/3/tutorial/datastructures.html#looping-techniques). <br>\n",
    "Mas como este curso é para iniciantes, vamos dar um passo de cada vez. <br>\n",
    "Abaixo, seguem algumas formas de utilizar o laço \"**for**\". <br>\n",
    "Observe que esse laço é bastante adequado para um laço cujo número de iterações (repetições) é finito e conhecido."
   ]
  },
  {
   "cell_type": "code",
   "execution_count": null,
   "metadata": {},
   "outputs": [],
   "source": []
  },
  {
   "cell_type": "code",
   "execution_count": null,
   "metadata": {},
   "outputs": [],
   "source": []
  },
  {
   "cell_type": "code",
   "execution_count": null,
   "metadata": {},
   "outputs": [],
   "source": []
  },
  {
   "cell_type": "markdown",
   "metadata": {},
   "source": [
    "Outro laço existente é o \"**while**\" (enquanto). <br>\n",
    "Sua aplicação é mais conveniente quando o bloco de código será repetido <br> \n",
    "tantas vezes quanto forem necessárias até que uma condição (até então verdadeira) seja violada (torna-se falsa)."
   ]
  },
  {
   "cell_type": "code",
   "execution_count": null,
   "metadata": {},
   "outputs": [],
   "source": []
  },
  {
   "cell_type": "markdown",
   "metadata": {},
   "source": [
    "# Listas"
   ]
  },
  {
   "cell_type": "markdown",
   "metadata": {},
   "source": [
    "O tipo de dado \"**_list_**\" consiste em uma sequência de objetos agrupados em uma única variável. <br> \n",
    "A lista possui apenas uma dimensão e cada elemento da lista guarda um objeto. <br>\n",
    "Por exemplo, considere uma lista de palavras:"
   ]
  },
  {
   "cell_type": "code",
   "execution_count": null,
   "metadata": {},
   "outputs": [],
   "source": []
  },
  {
   "cell_type": "markdown",
   "metadata": {},
   "source": [
    "Observe que para criar uma lista, utilizamos colchetes (**[ ]**) e enumeramos os elementos separando-os por vírgula. <br>\n",
    "Veja por exemplo uma lista de valores númericos:"
   ]
  },
  {
   "cell_type": "code",
   "execution_count": null,
   "metadata": {},
   "outputs": [],
   "source": []
  },
  {
   "cell_type": "markdown",
   "metadata": {},
   "source": [
    "Utilidade principal das listas: <br> **agrupar** elementos (objetos) **do mesmo tipo**, <br> para que seja possível **iterar** sobre os mesmos <br> **aplicando métodos** de maneira uniforme <br> (modificando todos os elementos da lista com o mesmo método)."
   ]
  },
  {
   "cell_type": "code",
   "execution_count": null,
   "metadata": {},
   "outputs": [],
   "source": []
  },
  {
   "cell_type": "markdown",
   "metadata": {},
   "source": [
    "É possível acessar os elementos de uma lista pelo seu índice, da seguinte maneira:"
   ]
  },
  {
   "cell_type": "code",
   "execution_count": null,
   "metadata": {},
   "outputs": [],
   "source": []
  },
  {
   "cell_type": "code",
   "execution_count": null,
   "metadata": {},
   "outputs": [],
   "source": []
  },
  {
   "cell_type": "code",
   "execution_count": null,
   "metadata": {},
   "outputs": [],
   "source": []
  },
  {
   "cell_type": "markdown",
   "metadata": {},
   "source": [
    "O tipo lista possui [diversos métodos](https://docs.python.org/3/tutorial/datastructures.html) que podem ser bastante úteis:"
   ]
  },
  {
   "cell_type": "markdown",
   "metadata": {},
   "source": [
    "- Podemos acrescentar um elemento na lista"
   ]
  },
  {
   "cell_type": "code",
   "execution_count": null,
   "metadata": {},
   "outputs": [],
   "source": []
  },
  {
   "cell_type": "code",
   "execution_count": null,
   "metadata": {},
   "outputs": [],
   "source": []
  },
  {
   "cell_type": "code",
   "execution_count": null,
   "metadata": {},
   "outputs": [],
   "source": []
  },
  {
   "cell_type": "markdown",
   "metadata": {},
   "source": [
    "- Podemos remover um elemento da lista"
   ]
  },
  {
   "cell_type": "code",
   "execution_count": null,
   "metadata": {},
   "outputs": [],
   "source": []
  },
  {
   "cell_type": "code",
   "execution_count": null,
   "metadata": {},
   "outputs": [],
   "source": []
  },
  {
   "cell_type": "code",
   "execution_count": null,
   "metadata": {},
   "outputs": [],
   "source": []
  },
  {
   "cell_type": "markdown",
   "metadata": {},
   "source": [
    "- Podemos criar uma cópia da lista, criando um novo objeto:"
   ]
  },
  {
   "cell_type": "code",
   "execution_count": null,
   "metadata": {},
   "outputs": [],
   "source": []
  },
  {
   "cell_type": "markdown",
   "metadata": {},
   "source": [
    "**Obs**: é muito importante fazer cópias em vez de simplesmente atribuir \"lista2 = lista1\", pois a atribuição é simplesmente uma referência simbólica, e as duas listas estarão conectadas - uma mutação em lista2 vai alterar lista1 também, pois são o mesmo objeto na memória."
   ]
  },
  {
   "cell_type": "markdown",
   "metadata": {},
   "source": [
    "Observe, como curiosidade, que _strings_ se comportam de maneira semelhante a uma lista de caracteres, porém não possui os métodos de lista."
   ]
  },
  {
   "cell_type": "code",
   "execution_count": null,
   "metadata": {},
   "outputs": [],
   "source": []
  },
  {
   "cell_type": "code",
   "execution_count": null,
   "metadata": {},
   "outputs": [],
   "source": []
  },
  {
   "cell_type": "code",
   "execution_count": null,
   "metadata": {},
   "outputs": [],
   "source": []
  },
  {
   "cell_type": "raw",
   "metadata": {},
   "source": [
    "letra_musica.pop(0)\n",
    "# AttributeError: 'str' object has no attribute 'pop'"
   ]
  },
  {
   "cell_type": "markdown",
   "metadata": {},
   "source": [
    "Uma técnica muito utilizada em Python é \"list comprehension\" (compreensão de listas). <br>\n",
    "Trata-se de uma forma de criação de listas de maneira iterativa e com uma sintaxe bastante \"legível\" para quem lê o código. <br>\n",
    "Veja um exemplo:"
   ]
  },
  {
   "cell_type": "code",
   "execution_count": null,
   "metadata": {},
   "outputs": [],
   "source": [
    "from numpy.random import uniform"
   ]
  },
  {
   "cell_type": "code",
   "execution_count": null,
   "metadata": {},
   "outputs": [],
   "source": []
  },
  {
   "cell_type": "code",
   "execution_count": null,
   "metadata": {},
   "outputs": [],
   "source": []
  },
  {
   "cell_type": "code",
   "execution_count": null,
   "metadata": {},
   "outputs": [],
   "source": []
  },
  {
   "cell_type": "markdown",
   "metadata": {},
   "source": [
    "# Tuplas "
   ]
  },
  {
   "cell_type": "markdown",
   "metadata": {},
   "source": [
    "Outra estrutura de sequência de dados existente é a **_tuple_** (tupla). <br>\n",
    "Trata-se de uma sequência de elementos separados por vírgula. <br>\n",
    "A principal diferença para uma lista é que tuplas são **imutáveis**: você pode ler o valor de uma tupla, mas não pode escrever sobre ele. <br>\n",
    "Além disso, uma tupla pode ser interpretada como um elemento de um espaço com \"N\" dimensões."
   ]
  },
  {
   "cell_type": "markdown",
   "metadata": {},
   "source": [
    "Utilidade principal das tuplas: <br> **agrupar** elementos de **tipos (tipicamente) diferentes** <br> em uma única estrutura <br> com **ordem pré-definida**."
   ]
  },
  {
   "cell_type": "markdown",
   "metadata": {},
   "source": [
    "Veja um exemplo: \n",
    "- vamos criar uma tupla que armazena as coordenadas geográficas de locais de interesse, bem como o nome desses locais."
   ]
  },
  {
   "cell_type": "code",
   "execution_count": null,
   "metadata": {},
   "outputs": [],
   "source": []
  },
  {
   "cell_type": "code",
   "execution_count": null,
   "metadata": {},
   "outputs": [],
   "source": []
  },
  {
   "cell_type": "code",
   "execution_count": null,
   "metadata": {},
   "outputs": [],
   "source": []
  },
  {
   "cell_type": "raw",
   "metadata": {},
   "source": [
    "geo_churr[0] = 'Matias' # não é possível escrever sobre o valor"
   ]
  },
  {
   "cell_type": "code",
   "execution_count": null,
   "metadata": {},
   "outputs": [],
   "source": []
  },
  {
   "cell_type": "markdown",
   "metadata": {},
   "source": [
    "- uma tupla que representa a cor de fundo de uma sequência de imagens "
   ]
  },
  {
   "cell_type": "code",
   "execution_count": null,
   "metadata": {},
   "outputs": [],
   "source": []
  },
  {
   "cell_type": "code",
   "execution_count": null,
   "metadata": {},
   "outputs": [],
   "source": []
  },
  {
   "cell_type": "code",
   "execution_count": null,
   "metadata": {},
   "outputs": [],
   "source": []
  },
  {
   "cell_type": "markdown",
   "metadata": {},
   "source": [
    "- coordenadas de um plano cartesiano 3D"
   ]
  },
  {
   "cell_type": "code",
   "execution_count": null,
   "metadata": {},
   "outputs": [],
   "source": []
  },
  {
   "cell_type": "code",
   "execution_count": null,
   "metadata": {},
   "outputs": [],
   "source": []
  },
  {
   "cell_type": "markdown",
   "metadata": {},
   "source": [
    "Podemos também criar listas onde cada elemento é uma tuplas. <br>\n",
    "Por exemplo, suponha que cada tupla representa informações de cadastro de um usuário. <br>\n",
    "Vamos usar a estrutura ordenada (NOME, CPF, e-mail)."
   ]
  },
  {
   "cell_type": "code",
   "execution_count": null,
   "metadata": {},
   "outputs": [],
   "source": []
  },
  {
   "cell_type": "markdown",
   "metadata": {},
   "source": [
    "Usando a função \"zip\", conseguimos iterar sobre as três listas simultaneamente e criar as tuplas. <br>\n",
    "A função zip faz um agrupamento elemento-a-elemento de listas de mesmo tamanho, concatenando-as numa tupla."
   ]
  },
  {
   "cell_type": "code",
   "execution_count": null,
   "metadata": {},
   "outputs": [],
   "source": []
  },
  {
   "cell_type": "code",
   "execution_count": null,
   "metadata": {},
   "outputs": [],
   "source": []
  },
  {
   "cell_type": "code",
   "execution_count": null,
   "metadata": {},
   "outputs": [],
   "source": []
  },
  {
   "cell_type": "markdown",
   "metadata": {},
   "source": [
    "Para desfazer a estrutura também podemos usar a função \"**zip(**\\* _zipped list_ **)**\" <br>\n",
    "para obter os valores do cadastro em variáveis independentes."
   ]
  },
  {
   "cell_type": "code",
   "execution_count": null,
   "metadata": {},
   "outputs": [],
   "source": []
  },
  {
   "cell_type": "markdown",
   "metadata": {},
   "source": [
    "Mas note que as saídas são tuplas e não listas!\n",
    "Podemos converter usando a função **list()**:"
   ]
  },
  {
   "cell_type": "code",
   "execution_count": null,
   "metadata": {},
   "outputs": [],
   "source": []
  },
  {
   "cell_type": "markdown",
   "metadata": {},
   "source": [
    "# Dicionários"
   ]
  },
  {
   "cell_type": "markdown",
   "metadata": {},
   "source": [
    "A última estrutura de dados que vamos explorar neste tutorial são os **[dicionários](https://docs.python.org/3/tutorial/datastructures.html#dictionaries)**. <br>\n",
    "Um dicionário é uma estrutura de duas dimensões, em que cada elemento tem a seguinte organização: <br>\n",
    "**{<font color=red>'item'</font>: valor}** <br><br>\n",
    "Assim como uma lista, um dicionário pode ter vários elementos. Veja um exemplo:"
   ]
  },
  {
   "cell_type": "code",
   "execution_count": null,
   "metadata": {},
   "outputs": [],
   "source": []
  },
  {
   "cell_type": "markdown",
   "metadata": {},
   "source": [
    "Existem outras formas de inicializar um dicionário, [leia mais para aprender](https://docs.python.org/3/library/stdtypes.html#dict). <br>"
   ]
  },
  {
   "cell_type": "markdown",
   "metadata": {},
   "source": [
    "Para acessar os elementos de uma lista, podemos usar o nome do item em vez de um índice numérico."
   ]
  },
  {
   "cell_type": "code",
   "execution_count": null,
   "metadata": {},
   "outputs": [],
   "source": []
  },
  {
   "cell_type": "markdown",
   "metadata": {},
   "source": [
    "Observe que \"valor\" de um item pode ser qualquer tipo de dado."
   ]
  },
  {
   "cell_type": "code",
   "execution_count": null,
   "metadata": {},
   "outputs": [],
   "source": []
  },
  {
   "cell_type": "code",
   "execution_count": null,
   "metadata": {},
   "outputs": [],
   "source": []
  },
  {
   "cell_type": "markdown",
   "metadata": {},
   "source": [
    "Para receber uma lista com todas as \"chaves\" (nomes dos itens) de um dicionário, usamos o método \"**keys()**\"."
   ]
  },
  {
   "cell_type": "code",
   "execution_count": null,
   "metadata": {},
   "outputs": [],
   "source": []
  },
  {
   "cell_type": "markdown",
   "metadata": {},
   "source": [
    "Da mesma maneira, podemos extrair apenas os valores ou ambos em uma tupla:"
   ]
  },
  {
   "cell_type": "code",
   "execution_count": null,
   "metadata": {},
   "outputs": [],
   "source": []
  },
  {
   "cell_type": "code",
   "execution_count": null,
   "metadata": {},
   "outputs": [],
   "source": []
  },
  {
   "cell_type": "markdown",
   "metadata": {},
   "source": [
    "Podemos verificar se uma chave consta no dicionário:"
   ]
  },
  {
   "cell_type": "code",
   "execution_count": null,
   "metadata": {},
   "outputs": [],
   "source": []
  },
  {
   "cell_type": "code",
   "execution_count": null,
   "metadata": {},
   "outputs": [],
   "source": []
  },
  {
   "cell_type": "markdown",
   "metadata": {},
   "source": [
    "Leia a documentação para aprender [outros métodos inerentes dos dicionários](https://docs.python.org/3/library/stdtypes.html#dict)."
   ]
  }
 ],
 "metadata": {
  "kernelspec": {
   "display_name": "Python 3",
   "language": "python",
   "name": "python3"
  },
  "language_info": {
   "codemirror_mode": {
    "name": "ipython",
    "version": 3
   },
   "file_extension": ".py",
   "mimetype": "text/x-python",
   "name": "python",
   "nbconvert_exporter": "python",
   "pygments_lexer": "ipython3",
   "version": "3.7.3"
  }
 },
 "nbformat": 4,
 "nbformat_minor": 4
}
