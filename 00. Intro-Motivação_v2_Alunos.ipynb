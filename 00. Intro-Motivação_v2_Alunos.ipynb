{
 "cells": [
  {
   "cell_type": "markdown",
   "metadata": {},
   "source": [
    "<h1 style='color: green; font-size: 36px; font-weight: bold;'> Python e Ciência de Dados </h1>\n",
    "<hr style='border: 2px solid green;'>"
   ]
  },
  {
   "cell_type": "markdown",
   "metadata": {},
   "source": [
    "# <font color=red> **Curso de Python Aplicado para Ciência de Dados** </font>\n",
    "<hr style='border: 2px solid red;'>"
   ]
  },
  {
   "cell_type": "markdown",
   "metadata": {},
   "source": [
    "**Instrutor:** prof. Bruno Fontana da Silva <br>\n",
    "**Edição:** 2020/1"
   ]
  },
  {
   "cell_type": "markdown",
   "metadata": {},
   "source": [
    "Neste curso, vamos aprender comandos e funções básicas do Python direcionadas para ~~a coleta~~, o processamento e a análise de dados. <br>\n",
    "O curso é apenas introdutório, servindo de motivação para a entrada de jovens programadores no universo da **ciência de dados**. <br> <br>\n",
    "Alunos que se sentirem motivados e desejarem continuar se aprofundando e desenvolvendo trabalhos e projetos nesta área podem entrar em contato com o instrutor pelo e-mail brunosilva@ifsul.edu.br."
   ]
  },
  {
   "cell_type": "markdown",
   "metadata": {},
   "source": [
    "Arquivos dos alunos: https://github.com/fontanads/minicurso_intro_datascience"
   ]
  },
  {
   "cell_type": "markdown",
   "metadata": {},
   "source": [
    "## <font color=blue>**Cenário Motivacional 1**: <br> Melhor corredor do Mario Kart 8 </font>\n",
    "<hr style='border: 1.76px solid blue;'>"
   ]
  },
  {
   "cell_type": "markdown",
   "metadata": {},
   "source": [
    "Em 2018, um cientista de dados americano chamado Henry Hinnefeld publicou no blog Medium [uma análise quantitativa das características de cada personagem do jogo \"Mario Kart\"](https://medium.com/civis-analytics/the-best-mario-kart-character-according-to-data-science-7dfb65d4c18e). \n",
    "\n",
    "Nesse jogo, ao escolher o veículo, rodas e paraquedas, algumas habilidades dos personagens são melhoradas ou pioradas. Henry fez uma análise de todas as combinações possíveis para determinar qual seriam as combinações mais vantajosas em relação às habilidades de \"velocidade\" e \"aceleração\"."
   ]
  },
  {
   "cell_type": "markdown",
   "metadata": {},
   "source": [
    "Abaixo você pode visualizar o _dataset_ (conjunto de dados) que Henry utilizou."
   ]
  },
  {
   "cell_type": "code",
   "execution_count": null,
   "metadata": {},
   "outputs": [],
   "source": [
    "data_dir = './data/MarioKart8-Stats/'"
   ]
  },
  {
   "cell_type": "code",
   "execution_count": null,
   "metadata": {},
   "outputs": [],
   "source": [
    "import pandas as pd"
   ]
  },
  {
   "cell_type": "code",
   "execution_count": null,
   "metadata": {},
   "outputs": [],
   "source": [
    "df_corredores = pd.read_csv(data_dir+'characters.csv')\n",
    "df_corredores"
   ]
  },
  {
   "cell_type": "markdown",
   "metadata": {},
   "source": [
    "Usando técnicas de análise de dados, podemos extrair informações de conjuntos de dados. <br>\n",
    "Algumas dessas informações são meramente **descritivas**. <br>\n",
    "Por exemplo, podemos ver que os corredores do jogo são categorizados de acordo com o peso: leve, médio e pesado. <br>"
   ]
  },
  {
   "cell_type": "markdown",
   "metadata": {},
   "source": [
    "Podemos nos perguntar: qual categoria de corredor possui **as maiores velocidades, em média**? "
   ]
  },
  {
   "cell_type": "code",
   "execution_count": null,
   "metadata": {},
   "outputs": [],
   "source": [
    "df_corredores.groupby('Class')['Speed'].mean()"
   ]
  },
  {
   "cell_type": "markdown",
   "metadata": {},
   "source": [
    "E qual categoria possui **a maior aceleração**?"
   ]
  },
  {
   "cell_type": "code",
   "execution_count": null,
   "metadata": {},
   "outputs": [],
   "source": [
    "df_corredores.groupby('Class')['Acceleration'].mean()"
   ]
  },
  {
   "cell_type": "markdown",
   "metadata": {},
   "source": [
    "Podemos também buscar as características de um único corredor. <br>"
   ]
  },
  {
   "cell_type": "code",
   "execution_count": null,
   "metadata": {},
   "outputs": [],
   "source": [
    "df_corredores.query('Character == \"Mario\"')"
   ]
  },
  {
   "cell_type": "markdown",
   "metadata": {},
   "source": [
    "Além da visualização em formato de tabela, podemos também usar elementos gráficos para auxiliar na interpretação dos dados. <br>\n",
    "Por exemplo, para o corredor Mario, vamos visualizar as sua habilidades quantitativas em um **gráfico de barras**."
   ]
  },
  {
   "cell_type": "code",
   "execution_count": null,
   "metadata": {},
   "outputs": [],
   "source": [
    "import seaborn as sns"
   ]
  },
  {
   "cell_type": "code",
   "execution_count": null,
   "metadata": {},
   "outputs": [],
   "source": [
    "mario_stats = df_corredores.query('Character == \"Mario\"').drop(['Class','Character'],axis=1)\n",
    "mario_stats"
   ]
  },
  {
   "cell_type": "code",
   "execution_count": null,
   "metadata": {},
   "outputs": [],
   "source": [
    "import matplotlib.pyplot as plt"
   ]
  },
  {
   "cell_type": "code",
   "execution_count": null,
   "metadata": {},
   "outputs": [],
   "source": [
    "plt.figure(figsize=(18,6))\n",
    "\n",
    "ax = sns.barplot(x=mario_stats.columns,y=mario_stats.values.reshape(12,))\n",
    "\n",
    "plt.rc('axes', labelsize=50)    # fontsize of the x and y labels\n",
    "plt.rc('xtick', labelsize=12)    # fontsize of the tick labels\n",
    "plt.rc('ytick', labelsize=12)    # fontsize of the tick labels\n",
    "plt.xticks(rotation=45)"
   ]
  },
  {
   "cell_type": "markdown",
   "metadata": {},
   "source": [
    "Veja que neste gáfico, cada barra corresponde à uma habilidade. <br>\n",
    "A altura das barras representa o valor de cada habilidade (quanto mais alta, maior a habilidade). <br>\n",
    "Assim, fica mais fácil visualizar e interpretar os dados do corredor. <br>\n",
    "Com um pequeno ajuste, podemos **melhorar essa visualização ordenando os valores das habilidades**, do maior para o menor."
   ]
  },
  {
   "cell_type": "code",
   "execution_count": null,
   "metadata": {},
   "outputs": [],
   "source": [
    "mario_stats_df = pd.DataFrame(df_corredores.groupby('Character').mean().loc['Mario'])\n",
    "mario_stats_df.rename(columns={'Mario':'Valor'},inplace=True)\n",
    "mario_stats_df.sort_values(by=['Valor'],axis=0,ascending=False,inplace=True)"
   ]
  },
  {
   "cell_type": "code",
   "execution_count": null,
   "metadata": {},
   "outputs": [],
   "source": [
    "plt.figure(figsize=(18,6))\n",
    "\n",
    "ax = sns.barplot(x=mario_stats_df.index,y=mario_stats_df.values.reshape(12,))\n",
    "\n",
    "plt.rc('axes', labelsize=50)    # fontsize of the x and y labels\n",
    "plt.rc('xtick', labelsize=12)    # fontsize of the tick labels\n",
    "plt.rc('ytick', labelsize=12)    # fontsize of the tick labels\n",
    "plt.xticks(rotation=45)"
   ]
  },
  {
   "cell_type": "markdown",
   "metadata": {},
   "source": [
    "Não esqueça de verificar a análise completa [aqui](https://medium.com/civis-analytics/the-best-mario-kart-character-according-to-data-science-7dfb65d4c18e). <br> \n",
    "Depois do curso, você pode tentar reproduzi-la. :)"
   ]
  },
  {
   "cell_type": "markdown",
   "metadata": {},
   "source": [
    "## <font color=blue> **Cenário Motivacional 2**: <br> Datasets Públicos </font>\n",
    "<hr style='border: 1.76px solid blue;'>"
   ]
  },
  {
   "cell_type": "markdown",
   "metadata": {},
   "source": [
    "O website do [**Kaggle**](https://www.kaggle.com/datasets) disponibiliza abertamente diversos datasets públicos. <br>\n",
    "Além de servir como ferramenta de aprendizado para estudos e projetos de Cientistas de Dados, o website também promove competições de soluções para problemas de diversas áreas."
   ]
  },
  {
   "cell_type": "markdown",
   "metadata": {},
   "source": [
    "### Exemplo 1: [As 50 músicas mais ouvidas do Spotify em 2019](https://www.kaggle.com/leonardopena/top50spotify2019)"
   ]
  },
  {
   "cell_type": "markdown",
   "metadata": {},
   "source": [
    "The top 50 most listened songs in the world by spotify in 2019. <br>\n",
    "This dataset has several variables about the songs."
   ]
  },
  {
   "cell_type": "code",
   "execution_count": null,
   "metadata": {},
   "outputs": [],
   "source": [
    "data_folder = './data/'\n",
    "file_csv_50songs = 'top50.csv'\n",
    "db_50songs = pd.read_csv(data_folder+file_csv_50songs,\n",
    "                        encoding = \"ISO-8859-1\") # error_bad_lines=False, warn_bad_lines=False\n",
    "db_50songs.head()"
   ]
  },
  {
   "cell_type": "markdown",
   "metadata": {},
   "source": [
    "### Exemplo 2: Dados do Airbnb\n",
    "[cidade de Madrid, Espanha](https://www.kaggle.com/rusiano/madrid-airbnb-data) <br>\n",
    "[cidade de Nova York, USA](https://www.kaggle.com/dgomonov/new-york-city-airbnb-open-data)"
   ]
  },
  {
   "cell_type": "code",
   "execution_count": null,
   "metadata": {},
   "outputs": [],
   "source": [
    "file_nyc = 'AB_NYC_2019.csv'\n",
    "db_nyc = pd.read_csv(data_folder+'airbnb_nyc/'+file_nyc,\n",
    "                        encoding = \"ISO-8859-1\") # error_bad_lines=False, warn_bad_lines=False\n",
    "db_nyc.head()"
   ]
  },
  {
   "cell_type": "markdown",
   "metadata": {},
   "source": [
    "## <font color=blue>**Cenário Motivacional 3**: <br> Analisando dados financeiros de órgãos públicos </font>\n",
    "<hr style='border: 1.76px solid blue;'>"
   ]
  },
  {
   "cell_type": "markdown",
   "metadata": {},
   "source": [
    "**Site da prefeitura de Sapiranga**:\n",
    "- Contas públicas (arquivos pdf, txt, csv): http://www.sapiranga.rs.gov.br/transparencia/categoria/1/contas-publicas\n",
    "- Portal da Transparência (consulta de licitações): https://servicos.sapiranga.rs.gov.br/ecidade_transparencia/licitacoes\n",
    "- Dificuldade de coleta: \n",
    "  - formatação dos documentos (pdfs de imagens escaneadas, tabelas sem padrão), \n",
    "  - documentos csv/txt ausentes\n",
    "\n",
    "\n",
    "**Site da prefeitura de Novo Hamburgo**: \n",
    "- https://novohamburgo.atende.net/?pg=transparencia#!/\n",
    "- despesas com diárias: https://novohamburgo.atende.net/?pg=transparencia#!/grupo/3/item/9/tipo/1\n",
    "- Dificuldade de coleta: \n",
    "  - banco de dados em javascript, \n",
    "  - não oferece download csv\n",
    "\n",
    "**Site da prefeitura de Porto Alegre**:\n",
    "- http://www2.portoalegre.rs.gov.br/transparencia/\n",
    "- Dificuldade de coleta: \n",
    "  - banco de dados em javascript, \n",
    "  - oferece download em csv/html/xml (como automatizar o download?) \n"
   ]
  }
 ],
 "metadata": {
  "kernelspec": {
   "display_name": "Python 3",
   "language": "python",
   "name": "python3"
  },
  "language_info": {
   "codemirror_mode": {
    "name": "ipython",
    "version": 3
   },
   "file_extension": ".py",
   "mimetype": "text/x-python",
   "name": "python",
   "nbconvert_exporter": "python",
   "pygments_lexer": "ipython3",
   "version": "3.7.3"
  }
 },
 "nbformat": 4,
 "nbformat_minor": 4
}
